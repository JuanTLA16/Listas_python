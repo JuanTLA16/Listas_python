{
  "nbformat": 4,
  "nbformat_minor": 0,
  "metadata": {
    "colab": {
      "provenance": [],
      "authorship_tag": "ABX9TyMFNhnPpJq/XCIuZIEP+gfK",
      "include_colab_link": true
    },
    "kernelspec": {
      "name": "python3",
      "display_name": "Python 3"
    },
    "language_info": {
      "name": "python"
    }
  },
  "cells": [
    {
      "cell_type": "markdown",
      "metadata": {
        "id": "view-in-github",
        "colab_type": "text"
      },
      "source": [
        "<a href=\"https://colab.research.google.com/github/JuanTLA16/Listas_python/blob/main/LISTAS.ipynb\" target=\"_parent\"><img src=\"https://colab.research.google.com/assets/colab-badge.svg\" alt=\"Open In Colab\"/></a>"
      ]
    },
    {
      "cell_type": "markdown",
      "source": [
        " LISTAS\n",
        "- Son colecciones ordenadas de datos los cuales pueden ser de cualquier tipo.\n",
        "- Las listas son mutables.\n",
        "- Las listas se agrupan dentro de corchetes [].\n",
        "- Los elementos de una lista se separan con comas. "
      ],
      "metadata": {
        "id": "pS9KkB3Mg3um"
      }
    },
    {
      "cell_type": "code",
      "source": [
        "# definir una lista con elementos de diferentes tipos\n",
        "lista = [\"Python\" , \"UIS Socorro\", 2023, \"Libre\", 5.8]\n",
        "print(lista)\n",
        "print(lista[1])\n",
        "print(lista[0])\n",
        "print(lista[2])\n",
        "print(lista[-1])\n",
        "print(lista[-2])"
      ],
      "metadata": {
        "id": "lwBwmBh1hVdN"
      },
      "execution_count": null,
      "outputs": []
    },
    {
      "cell_type": "code",
      "source": [
        "# creación usando el constructor list() sin parametros\n",
        "lista_3 =  list()\n",
        "print(lista_3)\n",
        "\n",
        "lista_4 = list(range(10))\n",
        "print(lista_4)\n",
        "\n",
        "lista_5 = list(\"UIS SOCORRO\")\n",
        "print(lista_5)\n",
        "\n",
        "frase = \"UIS no es uno, somos todos. Somos todos los que estamos en la lucha\"\n",
        "lista_6 = frase.split()\n",
        "print(lista_6)"
      ],
      "metadata": {
        "id": "WsGxOupZi1O7"
      },
      "execution_count": null,
      "outputs": []
    },
    {
      "cell_type": "code",
      "source": [
        "# funciones asociadas a las listas\n",
        "\n",
        "dias_laborables = [\"Lunes\" , \"Martes\" , \"Miercoles\", \"Jueves\" , \"Viernes\"]\n",
        "colores_primarios = [\"Rojo\" , \"Amarillo\", \"Azul\"]\n",
        "pares = list(range(0,30,2))\n",
        "\n",
        "print(dias_laborables)\n",
        "dias_laborables.append(\"Sabado\")\n",
        "print(dias_laborables)\n",
        "print(f\"El lunes aparece {dias_laborables.count('Lunes')} veces\")\n",
        "\n",
        "# agregar un elemento al principio de la lista \n",
        "colores_primarios.insert(0, 'blanco')\n",
        "print(colores_primarios)\n",
        "\n",
        "# quitar un elemento de la lista\n",
        "dias_laborables.remove('Sabado')\n",
        "print(dias_laborables)"
      ],
      "metadata": {
        "colab": {
          "base_uri": "https://localhost:8080/"
        },
        "id": "x3JupcoqmUk7",
        "outputId": "bf8ed56e-8be5-43c2-8f9f-96e9c627e42a"
      },
      "execution_count": 12,
      "outputs": [
        {
          "output_type": "stream",
          "name": "stdout",
          "text": [
            "['Lunes', 'Martes', 'Miercoles', 'Jueves', 'Viernes']\n",
            "['Lunes', 'Martes', 'Miercoles', 'Jueves', 'Viernes', 'Sabado']\n",
            "El lunes aparece 1 veces\n",
            "['blanco', 'Rojo', 'Amarillo', 'Azul']\n",
            "['Lunes', 'Martes', 'Miercoles', 'Jueves', 'Viernes']\n"
          ]
        }
      ]
    }
  ]
}